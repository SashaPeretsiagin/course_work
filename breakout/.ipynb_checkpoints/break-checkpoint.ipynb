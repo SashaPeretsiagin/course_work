{
 "cells": [
  {
   "cell_type": "code",
   "execution_count": null,
   "metadata": {
    "colab": {},
    "colab_type": "code",
    "id": "RjXeuJpeITVu"
   },
   "outputs": [],
   "source": [
    "import tensorflow as tf\n",
    "import numpy as np"
   ]
  },
  {
   "cell_type": "code",
   "execution_count": 24,
   "metadata": {
    "colab": {},
    "colab_type": "code",
    "id": "Jxfg0xeFIc9L"
   },
   "outputs": [],
   "source": [
    "import gym"
   ]
  },
  {
   "cell_type": "code",
   "execution_count": 25,
   "metadata": {
    "colab": {},
    "colab_type": "code",
    "id": "kDpRVW53Su39"
   },
   "outputs": [],
   "source": [
    "from collections import deque"
   ]
  },
  {
   "cell_type": "code",
   "execution_count": 26,
   "metadata": {},
   "outputs": [],
   "source": [
    "import cv2"
   ]
  },
  {
   "cell_type": "code",
   "execution_count": 27,
   "metadata": {
    "colab": {},
    "colab_type": "code",
    "id": "FYa5gDPZgMx4"
   },
   "outputs": [],
   "source": [
    "_IMAGE_FIRST_RANGE = 31\n",
    "_IMAGE_SECOND_RANGE = 195\n",
    "_MONITOR = True\n",
    "\n",
    "_EPOCHS = 100\n",
    "_THRESHOLD = 100 "
   ]
  },
  {
   "cell_type": "code",
   "execution_count": 28,
   "metadata": {
    "colab": {},
    "colab_type": "code",
    "id": "XCH6u7i7gwmV"
   },
   "outputs": [],
   "source": [
    "import random"
   ]
  },
  {
   "cell_type": "code",
   "execution_count": 29,
   "metadata": {
    "colab": {},
    "colab_type": "code",
    "id": "lOVr5442y-10"
   },
   "outputs": [],
   "source": [
    "\"\"\"Trains a DQN/DDQN to solve CartPole-v0 problem\n",
    "\"\"\"\n",
    "\n",
    "from tensorflow.keras.layers import Dense, Input\n",
    "from tensorflow.keras.models import Model\n",
    "from tensorflow.keras.optimizers import Adam\n",
    "from collections import deque\n",
    "import numpy as np\n",
    "import random\n",
    "import argparse\n",
    "import gym\n",
    "from gym import wrappers, logger"
   ]
  },
  {
   "cell_type": "code",
   "execution_count": 30,
   "metadata": {
    "colab": {},
    "colab_type": "code",
    "id": "S9S3i4tpofk4"
   },
   "outputs": [],
   "source": [
    "import matplotlib.pyplot as plt"
   ]
  },
  {
   "cell_type": "code",
   "execution_count": 31,
   "metadata": {
    "colab": {},
    "colab_type": "code",
    "id": "BUb6b97TOf10"
   },
   "outputs": [],
   "source": [
    "_IMAGE_FIRST_RANGE = 31\n",
    "_IMAGE_SECOND_RANGE = 195"
   ]
  },
  {
   "cell_type": "code",
   "execution_count": 32,
   "metadata": {
    "colab": {
     "base_uri": "https://localhost:8080/",
     "height": 34
    },
    "colab_type": "code",
    "id": "q4evYJXkoSXp",
    "outputId": "a932b5d2-5f87-4e55-f2c0-e0050e2e7a01"
   },
   "outputs": [
    {
     "name": "stderr",
     "output_type": "stream",
     "text": [
      "[2020-05-18 03:34:38,945] Making new env: BreakoutDeterministic-v4\n",
      "/Users/sashaperetsiagin/anaconda3/envs/tensorflow_vision/lib/python3.7/site-packages/gym/envs/registration.py:17: PkgResourcesDeprecationWarning: Parameters to load are deprecated.  Call .resolve and .require separately.\n",
      "  result = entry_point.load(False)\n"
     ]
    },
    {
     "data": {
      "text/plain": [
       "(210, 160, 3)"
      ]
     },
     "execution_count": 32,
     "metadata": {},
     "output_type": "execute_result"
    }
   ],
   "source": [
    "env = gym.make('BreakoutDeterministic-v4')\n",
    "obs = env.reset()\n",
    "obs.shape"
   ]
  },
  {
   "cell_type": "code",
   "execution_count": 33,
   "metadata": {
    "colab": {
     "base_uri": "https://localhost:8080/",
     "height": 34
    },
    "colab_type": "code",
    "id": "K4jzvZgloOvY",
    "outputId": "bf99ec97-f55d-4710-b222-bb66b05a83a5"
   },
   "outputs": [
    {
     "data": {
      "text/plain": [
       "4"
      ]
     },
     "execution_count": 33,
     "metadata": {},
     "output_type": "execute_result"
    }
   ],
   "source": [
    "env.action_space.n"
   ]
  },
  {
   "cell_type": "code",
   "execution_count": 34,
   "metadata": {
    "colab": {},
    "colab_type": "code",
    "id": "NC6PLJdUPHpA"
   },
   "outputs": [],
   "source": [
    "class DQNAgent:\n",
    "  def __init__(self, action_space, batch_size=64, IM_SIZE = 84, m = 4):\n",
    "    self.action_space = action_space\n",
    "    self.memory = []\n",
    "    self.gamma = 0.9\n",
    "    self.epsilon = 1.0\n",
    "    self.epsilon_min = 0.1\n",
    "    self.epsilon_decay = 0.995\n",
    "    self.weights_file = 'pacman.h5'\n",
    "\n",
    "    self.IM_SIZE = IM_SIZE\n",
    "    self.m = m\n",
    "\n",
    "    self.q_model = self.build_model_()\n",
    "    self.q_model.compile(loss='mse', optimizer=Adam())\n",
    "    self.target_q_model = self.build_model_()\n",
    "    self.update_weights()\n",
    "    self.replay_counter = 0\n",
    "\n",
    "\n",
    "  def update_weights(self):\n",
    "    \"\"\"copy trained Q Network params to target Q Network\"\"\"\n",
    "    self.target_q_model.set_weights(self.q_model.get_weights())\n",
    "\n",
    "\n",
    "  def save_weights(self):\n",
    "    \"\"\"save Q Network params to a file\"\"\"\n",
    "    self.q_model.save_weights(self.weights_file)\n",
    "\n",
    "\n",
    "  def act(self, state):\n",
    "    if np.random.rand() < self.epsilon:\n",
    "      # explore - do random action\n",
    "      return self.action_space.sample()\n",
    "      # exploit\n",
    "    q_values = self.q_model.predict(state)\n",
    "      # select the action with max Q-value\n",
    "    action = np.argmax(q_values[0])\n",
    "    return action   \n",
    "\n",
    "\n",
    "  def remember(self, state, action, reward, next_state, done):\n",
    "    item = (state, action, reward, next_state, done)\n",
    "    self.memory.append(item)\n",
    "\n",
    "\n",
    "  def get_target_q_value(self, next_state, reward):\n",
    "    q_value = np.amax(self.target_q_model.predict(next_state)[0])\n",
    "    q_value *= self.gamma\n",
    "    q_value += reward\n",
    "    return q_value\n",
    "\n",
    "\n",
    "  def replay(self, batch_size):\n",
    "    sars_batch = random.sample(self.memory, batch_size)\n",
    "    state_batch, q_values_batch = [], []\n",
    "    for state, action, reward, next_state, done in sars_batch:\n",
    "      q_values = self.q_model.predict(state)\n",
    "      q_value = self.get_target_q_value(next_state, reward)\n",
    "      q_values[0][action] = reward if done else q_value\n",
    "      state_batch.append(state[0])\n",
    "      q_values_batch.append(q_values[0])\n",
    "\n",
    "    self.q_model.fit(np.array(state_batch), np.array(q_values_batch), batch_size=batch_size, epochs=1, verbose=0)\n",
    "\n",
    "    # update exploration-exploitation probability\n",
    "    self.update_epsilon()\n",
    "\n",
    "    # copy new params on old target after \n",
    "    # every 10 training updates\n",
    "    if self.replay_counter % 10 == 0:\n",
    "      self.update_weights()\n",
    "\n",
    "    self.replay_counter += 1\n",
    "\n",
    "\n",
    "  def preprocess_state(self, img):\n",
    "    img_temp = img[31:195]  # Choose the important area of the image\n",
    "    img_temp = tf.image.rgb_to_grayscale(img_temp)\n",
    "    img_temp = tf.image.resize(img_temp, (self.IM_SIZE, self.IM_SIZE), method=tf.image.ResizeMethod.NEAREST_NEIGHBOR)\n",
    "    img_temp = tf.cast(img_temp, tf.float32)\n",
    "    return img_temp[:,:,0]\n",
    "\n",
    "  \n",
    "  def combine_images(self, img1, img2):\n",
    "    if len(img1.shape) == 3 and img1.shape[0] == self.m:\n",
    "      im = np.append(img1[1:,:, :],np.expand_dims(img2,0), axis=2)\n",
    "      return tf.expand_dims(im, 0)\n",
    "    else:\n",
    "      im = np.stack([img1]*self.m, axis = 2)\n",
    "      return tf.expand_dims(im, 0)\n",
    "\n",
    "\n",
    "  def update_epsilon(self):\n",
    "    \"\"\"decrease the exploration, increase exploitation\"\"\"\n",
    "    if self.epsilon > self.epsilon_min:\n",
    "      self.epsilon *= self.epsilon_decay \n",
    "\n",
    "  \n",
    "  def build_model_(self):\n",
    "        model = tf.keras.models.Sequential()\n",
    "        model.add(tf.keras.layers.Conv2D(32, (8, 8), strides=(4, 4), activation='relu',\n",
    "                         input_shape=(84, 84, 4)))\n",
    "        model.add(tf.keras.layers.Conv2D(64, (4, 4), strides=(2, 2), activation='relu'))\n",
    "        model.add(tf.keras.layers.Conv2D(64, (3, 3), strides=(1, 1), activation='relu'))\n",
    "        model.add(tf.keras.layers.Flatten())\n",
    "        model.add(tf.keras.layers.Dense(512, activation='relu'))\n",
    "        model.add(tf.keras.layers.Dense(3))\n",
    "        model.summary()\n",
    "\n",
    "        return model\n",
    "\n",
    "\n",
    "  def build_model(self):\n",
    "    model = tf.keras.models.Sequential()\n",
    "    model.add(tf.keras.layers.Conv2D(32, (8, 8), strides=(4, 4), padding='same', activation='relu', input_shape=(84, 84, 4)))\n",
    "    model.add(tf.keras.layers.Conv2D(64, (4, 4), strides=(2, 2), padding='same', activation='relu'))\n",
    "    model.add(tf.keras.layers.Conv2D(64, (3, 3), strides=(1, 1), padding='same', activation='relu'))\n",
    "    model.add(tf.keras.layers.Flatten())\n",
    "    model.add(tf.keras.layers.Dense(512, activation='relu'))\n",
    "    model.add(tf.keras.layers.Dense(4))\n",
    "    return model\n"
   ]
  },
  {
   "cell_type": "code",
   "execution_count": 35,
   "metadata": {
    "colab": {},
    "colab_type": "code",
    "id": "WAgXiNQ1TCUs"
   },
   "outputs": [],
   "source": [
    "win_trials = 100\n",
    "win_reward = { 'BreakoutDeterministic-v4' : 180.0 }\n",
    "scores = deque(maxlen=win_trials)\n",
    "\n",
    "episode_count = 3000\n",
    "state_size = env.observation_space.shape[0]\n",
    "batch_size = 64"
   ]
  },
  {
   "cell_type": "code",
   "execution_count": 36,
   "metadata": {
    "colab": {
     "base_uri": "https://localhost:8080/",
     "height": 697
    },
    "colab_type": "code",
    "id": "GGye7W9KU2bC",
    "outputId": "22171457-da6e-4f78-b57f-847820adc871"
   },
   "outputs": [
    {
     "name": "stdout",
     "output_type": "stream",
     "text": [
      "Model: \"sequential\"\n",
      "_________________________________________________________________\n",
      "Layer (type)                 Output Shape              Param #   \n",
      "=================================================================\n",
      "conv2d (Conv2D)              (None, 20, 20, 32)        8224      \n",
      "_________________________________________________________________\n",
      "conv2d_1 (Conv2D)            (None, 9, 9, 64)          32832     \n",
      "_________________________________________________________________\n",
      "conv2d_2 (Conv2D)            (None, 7, 7, 64)          36928     \n",
      "_________________________________________________________________\n",
      "flatten (Flatten)            (None, 3136)              0         \n",
      "_________________________________________________________________\n",
      "dense (Dense)                (None, 512)               1606144   \n",
      "_________________________________________________________________\n",
      "dense_1 (Dense)              (None, 3)                 1539      \n",
      "=================================================================\n",
      "Total params: 1,685,667\n",
      "Trainable params: 1,685,667\n",
      "Non-trainable params: 0\n",
      "_________________________________________________________________\n",
      "Model: \"sequential_1\"\n",
      "_________________________________________________________________\n",
      "Layer (type)                 Output Shape              Param #   \n",
      "=================================================================\n",
      "conv2d_3 (Conv2D)            (None, 20, 20, 32)        8224      \n",
      "_________________________________________________________________\n",
      "conv2d_4 (Conv2D)            (None, 9, 9, 64)          32832     \n",
      "_________________________________________________________________\n",
      "conv2d_5 (Conv2D)            (None, 7, 7, 64)          36928     \n",
      "_________________________________________________________________\n",
      "flatten_1 (Flatten)          (None, 3136)              0         \n",
      "_________________________________________________________________\n",
      "dense_2 (Dense)              (None, 512)               1606144   \n",
      "_________________________________________________________________\n",
      "dense_3 (Dense)              (None, 3)                 1539      \n",
      "=================================================================\n",
      "Total params: 1,685,667\n",
      "Trainable params: 1,685,667\n",
      "Non-trainable params: 0\n",
      "_________________________________________________________________\n"
     ]
    }
   ],
   "source": [
    "agent = DQNAgent(env.action_space)"
   ]
  },
  {
   "cell_type": "code",
   "execution_count": 0,
   "metadata": {
    "colab": {},
    "colab_type": "code",
    "id": "pDo6XIhMg4NN"
   },
   "outputs": [],
   "source": [
    "img = agent.preprocess_state(obs)"
   ]
  },
  {
   "cell_type": "code",
   "execution_count": 55,
   "metadata": {
    "colab": {
     "base_uri": "https://localhost:8080/",
     "height": 413
    },
    "colab_type": "code",
    "id": "VX7R31sthB5e",
    "outputId": "2b6a8266-6103-4270-86a1-572af70657bb"
   },
   "outputs": [
    {
     "data": {
      "image/png": "[encoded data removed]",
      "text/plain": [
       "<Figure size 792x504 with 2 Axes>"
      ]
     },
     "metadata": {
      "needs_background": "light",
      "tags": []
     },
     "output_type": "display_data"
    }
   ],
   "source": [
    "plt.figure(figsize=(11, 7))\n",
    "plt.subplot(121)\n",
    "plt.title(\"Original observation (160×210 RGB)\")\n",
    "plt.imshow(obs)\n",
    "plt.axis(\"off\")\n",
    "plt.subplot(122)\n",
    "plt.title(\"Preprocessed observation (84×84 greyscale)\")\n",
    "plt.imshow(tf.reshape(img, (84, 84)), interpolation=\"nearest\", cmap=\"gray\")\n",
    "plt.axis(\"off\")\n",
    "plt.show()"
   ]
  },
  {
   "cell_type": "code",
   "execution_count": 57,
   "metadata": {
    "colab": {
     "base_uri": "https://localhost:8080/",
     "height": 232
    },
    "colab_type": "code",
    "id": "ZZLJO5Q5UwC-",
    "outputId": "6a9a804b-fa7e-4aaa-80a6-9ddf3977ae46"
   },
   "outputs": [
    {
     "ename": "NameError",
     "evalue": "ignored",
     "output_type": "error",
     "traceback": [
      "\u001b[0;31m---------------------------------------------------------------------------\u001b[0m",
      "\u001b[0;31mNameError\u001b[0m                                 Traceback (most recent call last)",
      "\u001b[0;32m<ipython-input-57-c77d16b7ae1f>\u001b[0m in \u001b[0;36m<module>\u001b[0;34m()\u001b[0m\n\u001b[1;32m     13\u001b[0m       \u001b[0mnext_state\u001b[0m \u001b[0;34m=\u001b[0m \u001b[0magent\u001b[0m\u001b[0;34m.\u001b[0m\u001b[0mcombine_images\u001b[0m\u001b[0;34m(\u001b[0m\u001b[0mnext_state\u001b[0m\u001b[0;34m,\u001b[0m \u001b[0mstate\u001b[0m\u001b[0;34m)\u001b[0m\u001b[0;34m\u001b[0m\u001b[0;34m\u001b[0m\u001b[0m\n\u001b[1;32m     14\u001b[0m       \u001b[0magent\u001b[0m\u001b[0;34m.\u001b[0m\u001b[0mremember\u001b[0m\u001b[0;34m(\u001b[0m\u001b[0mstate\u001b[0m\u001b[0;34m,\u001b[0m \u001b[0maction\u001b[0m\u001b[0;34m,\u001b[0m \u001b[0mreward\u001b[0m\u001b[0;34m,\u001b[0m \u001b[0mnext_state\u001b[0m\u001b[0;34m,\u001b[0m \u001b[0mdone\u001b[0m\u001b[0;34m)\u001b[0m\u001b[0;34m\u001b[0m\u001b[0;34m\u001b[0m\u001b[0m\n\u001b[0;32m---> 15\u001b[0;31m     \u001b[0mtotal_reward\u001b[0m \u001b[0;34m+=\u001b[0m \u001b[0mreward\u001b[0m\u001b[0;34m\u001b[0m\u001b[0;34m\u001b[0m\u001b[0m\n\u001b[0m\u001b[1;32m     16\u001b[0m     \u001b[0mstate\u001b[0m \u001b[0;34m=\u001b[0m \u001b[0mnext_state\u001b[0m\u001b[0;34m\u001b[0m\u001b[0;34m\u001b[0m\u001b[0m\n\u001b[1;32m     17\u001b[0m \u001b[0;34m\u001b[0m\u001b[0m\n",
      "\u001b[0;31mNameError\u001b[0m: name 'reward' is not defined"
     ]
    }
   ],
   "source": [
    "for episode in range(episode_count):\n",
    "  state = env.reset()\n",
    "  state = agent.preprocess_state(state)\n",
    "  state = agent.combine_images(state, state)\n",
    "  done = False\n",
    "  total_reward = 0\n",
    "  \n",
    "  while not done:\n",
    "    action = agent.act(state)\n",
    "    if action != 3:\n",
    "      next_state, reward, done, _ = env.step(action)\n",
    "      next_state = agent.preprocess_state(next_state)\n",
    "      next_state = agent.combine_images(next_state, state)\n",
    "      agent.remember(state, action, reward, next_state, done)\n",
    "    total_reward += reward\n",
    "    state = next_state\n",
    "  \n",
    "  if len(agent.memory) >= batch_size:\n",
    "    print('batch_reinforce')\n",
    "    agent.replay(batch_size)\n",
    "  \n",
    "  scores.append(total_reward)\n",
    "  mean_score = np.mean(scores)\n",
    "\n",
    "  if mean_score >= win_reward['BreakoutDeterministic-v4'] and episode >= win_trials:\n",
    "    print(\"Solved in episode %d: Mean survival = %0.2lf in %d episodes\" % (episode, mean_score, win_trials))\n",
    "    agent.save_weights()\n",
    "    break\n",
    "  \n",
    "  if (episode + 1) % win_trials == 0:\n",
    "    print(\"Episode %d: Mean survival = %0.2lf in %d episodes\" % ((episode + 1), mean_score, win_trials))"
   ]
  },
  {
   "cell_type": "code",
   "execution_count": 37,
   "metadata": {
    "colab": {
     "base_uri": "https://localhost:8080/",
     "height": 409
    },
    "colab_type": "code",
    "id": "5vMlPQJuCu3N",
    "outputId": "8bf6396b-6dbf-4f46-eae2-3efd386af3ba",
    "scrolled": true
   },
   "outputs": [],
   "source": [
    "agent.q_model.load_weights('b.h5')"
   ]
  },
  {
   "cell_type": "code",
   "execution_count": 49,
   "metadata": {
    "colab": {},
    "colab_type": "code",
    "id": "jvNDJHReGAL_"
   },
   "outputs": [],
   "source": [
    "state = env.reset()\n",
    "state = easy_preprocess_state(state)\n",
    "state = agent.combine_images(state, state)\n",
    "done = False\n",
    "total_reward = 0"
   ]
  },
  {
   "cell_type": "code",
   "execution_count": 50,
   "metadata": {
    "colab": {},
    "colab_type": "code",
    "id": "68lBgVF5GVam"
   },
   "outputs": [
    {
     "name": "stderr",
     "output_type": "stream",
     "text": [
      "[2020-05-18 03:35:42,119] Creating monitor directory recording\n"
     ]
    }
   ],
   "source": [
    "env = gym.wrappers.Monitor(env, 'recording', force=True)"
   ]
  },
  {
   "cell_type": "code",
   "execution_count": null,
   "metadata": {
    "colab": {
     "base_uri": "https://localhost:8080/",
     "height": 378
    },
    "colab_type": "code",
    "id": "B5HgmFWnF6t2",
    "outputId": "f99254e3-10fc-48fa-c8df-16f15cc242d0"
   },
   "outputs": [],
   "source": [
    "while not done:\n",
    "    action = agent.act(state)\n",
    "    next_state, reward, done, _ = env.step(action)\n",
    "    next_state = easy_preprocess_state(next_state)\n",
    "    next_state = agent.combine_images(next_state, state)\n",
    "    total_reward += reward"
   ]
  },
  {
   "cell_type": "code",
   "execution_count": 0,
   "metadata": {
    "colab": {},
    "colab_type": "code",
    "id": "ydZG5hdxG1-g"
   },
   "outputs": [],
   "source": []
  }
 ],
 "metadata": {
  "colab": {
   "collapsed_sections": [],
   "name": "rl.ipynb",
   "provenance": []
  },
  "kernelspec": {
   "display_name": "Python 3",
   "language": "python",
   "name": "python3"
  },
  "language_info": {
   "codemirror_mode": {
    "name": "ipython",
    "version": 3
   },
   "file_extension": ".py",
   "mimetype": "text/x-python",
   "name": "python",
   "nbconvert_exporter": "python",
   "pygments_lexer": "ipython3",
   "version": "3.7.7"
  }
 },
 "nbformat": 4,
 "nbformat_minor": 1
}
